{
 "cells": [
  {
   "cell_type": "code",
   "execution_count": null,
   "id": "67f71151-7407-4c23-a9a7-742969973bc9",
   "metadata": {
    "tags": []
   },
   "outputs": [],
   "source": [
    "%load_ext autoreload\n",
    "%autoreload 2\n",
    "\n",
    "from __future__ import annotations\n",
    "\n",
    "import os\n",
    "\n",
    "os.environ['USE_PYGEOS'] = '0'  # remove geopandas warnings\n",
    "\n",
    "import holoviews as hv\n",
    "import numpy as np\n",
    "import numpy_indexed as npi\n",
    "import pandas as pd\n",
    "import xarray as xr\n",
    "\n",
    "hv.extension(\"bokeh\")"
   ]
  },
  {
   "cell_type": "markdown",
   "id": "09b3a22a-1c7d-457b-973c-7ea35d65e22a",
   "metadata": {
    "tags": []
   },
   "source": [
    "## Subsetting an unstructured mesh using a BBox \n",
    "\n",
    "In unstructured meshes the `longitude` and `latitude` are data variables instead of dimensions.\n",
    "This means that filtering/subsetting a mesh using a Bounding Box (BBox) is somewhat more challenging.\n",
    "Nevertheless it is still possible to do it using `numpy` and `xarray`.\n",
    "\n",
    "This notebook describes how to achieve this.\n",
    "\n",
    "For convenience, we are going to use an ADCIRC netcdf file which has been converted to the \"Thalassa schema\".\n",
    "\n",
    "We will also need an additional library which the following cell will take care of importing."
   ]
  },
  {
   "cell_type": "code",
   "execution_count": null,
   "id": "5090d13b-e185-4155-8801-692ff511a829",
   "metadata": {
    "tags": []
   },
   "outputs": [],
   "source": [
    "try:\n",
    "    import numpy_indexed\n",
    "except ImportError:\n",
    "    %pip install numpy_indexed\n",
    "    "
   ]
  },
  {
   "cell_type": "markdown",
   "id": "567728b6-300e-4f86-b80f-56f70d49dfe3",
   "metadata": {
    "tags": []
   },
   "source": [
    "### Sample file\n",
    "\n",
    "As an example let's download a netcdf file containing the output of an ADCIRC model.\n",
    "\n",
    "The file will be saved at `/tmp/fort.63.nc`:"
   ]
  },
  {
   "cell_type": "code",
   "execution_count": null,
   "id": "e21e8260-7283-4094-b496-094834a5ad6f",
   "metadata": {
    "tags": []
   },
   "outputs": [],
   "source": [
    "%%bash\n",
    "pushd /tmp\n",
    "wget --quiet https://github.com/ec-jrc/Thalassa/files/10867068/fort.63.zip \n",
    "unzip -o fort.63.zip\n",
    "popd"
   ]
  },
  {
   "cell_type": "markdown",
   "id": "39d407a6-b810-4571-ac5b-6145c81df5cc",
   "metadata": {
    "tags": []
   },
   "source": [
    "Let's load the file and convert it to the thalassa schema."
   ]
  },
  {
   "cell_type": "code",
   "execution_count": null,
   "id": "2802b2dc-a45f-4da2-9e62-62eaafab63d9",
   "metadata": {
    "tags": []
   },
   "outputs": [],
   "source": [
    "from thalassa import api\n",
    "\n",
    "filename = \"/tmp/fort.63.nc\"\n",
    "ds = api.open_dataset(filename)\n",
    "ds"
   ]
  },
  {
   "cell_type": "markdown",
   "id": "195cb344-61c0-429b-b648-d739180a819e",
   "metadata": {
    "tags": []
   },
   "source": [
    "As we can see the model has 3070 nodes and 5780 trifaces (i.e. triangles)\n",
    "\n",
    "Note: The reason why the thalassa schema defines `triface` is because `face` might be referring to quad elements, too (in Schism models). `triface` always refers to triangles."
   ]
  },
  {
   "cell_type": "markdown",
   "id": "b9b19fd4-0c43-4cc1-9019-7abee26d591e",
   "metadata": {
    "tags": []
   },
   "source": [
    "Now let's define the function that does the filtering by BBox"
   ]
  },
  {
   "cell_type": "code",
   "execution_count": null,
   "id": "0ff5f2aa-cc49-486f-a407-4d90e962bc33",
   "metadata": {
    "tags": []
   },
   "outputs": [],
   "source": [
    "def filter_thalassa_by_bbox(\n",
    "    ds: xr.Dataset,\n",
    "    lon_min: float,\n",
    "    lon_max: float,\n",
    "    lat_min: float,\n",
    "    lat_max: float\n",
    ") -> xr.Dataset:\n",
    "    indices_of_nodes_in_bbox = np.where(\n",
    "        True \n",
    "        & (ds.lat >= lat_min)\n",
    "        & (ds.lat <= lat_max) \n",
    "        & (ds.lon >= lon_min) \n",
    "        & (ds.lon <= lon_max)\n",
    "    )[0]\n",
    "    indices_of_triface_nodes_in_bbox = np.where(\n",
    "        ds.triface_nodes.isin(indices_of_nodes_in_bbox).all(axis=1)\n",
    "    )[0]\n",
    "    ds = ds.isel(node=indices_of_nodes_in_bbox, triface=indices_of_triface_nodes_in_bbox)\n",
    "    remapped_nodes = np.arange(len(indices_of_nodes_in_bbox))\n",
    "    remapped_triface_nodes = np.c_[\n",
    "        npi.remap(ds.triface_nodes[:,0], indices_of_nodes_in_bbox, remapped_nodes),\n",
    "        npi.remap(ds.triface_nodes[:,1], indices_of_nodes_in_bbox, remapped_nodes),\n",
    "        npi.remap(ds.triface_nodes[:,2], indices_of_nodes_in_bbox, remapped_nodes),\n",
    "    ]\n",
    "    ds[\"triface_nodes\"] = ((\"triface\", \"three\"), remapped_triface_nodes)\n",
    "    return ds"
   ]
  },
  {
   "cell_type": "markdown",
   "id": "77ee052d-6b60-4f68-a2c0-66d1341584f6",
   "metadata": {
    "tags": []
   },
   "source": [
    "Let's see it in action!\n",
    "\n",
    "The original Dataset depicts the Hampton port/Bay. \n",
    "The BBox we used centers in the inner harbor area. \n",
    "\n",
    "`fds` is the filtered Dataset and as we can see it only contains 798 nodes and 1325 trifaces"
   ]
  },
  {
   "cell_type": "code",
   "execution_count": null,
   "id": "926aa112-f444-4718-a5af-87605b3ee0ae",
   "metadata": {
    "tags": []
   },
   "outputs": [],
   "source": [
    "fds = filter_thalassa_by_bbox(\n",
    "    ds=ds,\n",
    "    lon_min=-72.6,\n",
    "    lon_max=-72.4,\n",
    "    lat_min=40.8,\n",
    "    lat_max=41.0,\n",
    ")\n",
    "\n",
    "ds.dims\n",
    "fds.dims"
   ]
  },
  {
   "cell_type": "markdown",
   "id": "c234f1c5-0ad2-41e9-87ab-5cfe0e482ebf",
   "metadata": {
    "tags": []
   },
   "source": [
    "Let's use `thalassa` to visualize the difference:"
   ]
  },
  {
   "cell_type": "code",
   "execution_count": null,
   "id": "53593673-6c37-4579-b1a2-e97460c97e4f",
   "metadata": {
    "tags": []
   },
   "outputs": [],
   "source": [
    "trimesh = api.create_trimesh(\n",
    "    ds=ds,\n",
    "    variable=\"zeta\",\n",
    "    timestamp=\"max\",\n",
    "    layer=None,\n",
    ")"
   ]
  },
  {
   "cell_type": "code",
   "execution_count": null,
   "id": "b2fd3776-581f-4788-add7-68f24d51b8fa",
   "metadata": {
    "tags": []
   },
   "outputs": [],
   "source": [
    "dmap = api.get_tiles() * api.get_raster(trimesh=trimesh) #* api.get_wireframe(trimesh=trimesh)\n",
    "dmap.opts(width=600, title=\"Full dataset\")"
   ]
  },
  {
   "cell_type": "code",
   "execution_count": null,
   "id": "850bf0f0-24b3-4158-abd1-5bfe2283a40b",
   "metadata": {
    "tags": []
   },
   "outputs": [],
   "source": [
    "ftrimesh = api.create_trimesh(\n",
    "    ds=fds,\n",
    "    variable=\"zeta\",\n",
    "    timestamp=\"max\",\n",
    "    layer=None,\n",
    ")\n",
    "dmap = api.get_tiles() * api.get_raster(trimesh=ftrimesh) * api.get_wireframe(trimesh=ftrimesh)\n",
    "dmap.opts(width=600, title=\"Filtered Dataset\")"
   ]
  },
  {
   "cell_type": "markdown",
   "id": "afa61cf4-1bf1-466e-b89c-1020f927d38f",
   "metadata": {
    "tags": []
   },
   "source": [
    "### Further development\n",
    "\n",
    "It should not be too difficult to extend/modify the function so that: \n",
    "\n",
    "1. it supports different Dataset schemas (e.g. vanilla ADCIRC, vanilla SCHISM) but this is left as an exercise to the reader.\n",
    "2. it filters using a vector object (e.g. a shapefile) instead of a simple BBox."
   ]
  },
  {
   "cell_type": "code",
   "execution_count": null,
   "id": "e7196c2b-1052-4e1b-9a23-f6e44d768c5f",
   "metadata": {},
   "outputs": [],
   "source": []
  }
 ],
 "metadata": {
  "kernelspec": {
   "display_name": "thalassa2",
   "language": "python",
   "name": "thalassa2"
  },
  "language_info": {
   "codemirror_mode": {
    "name": "ipython",
    "version": 3
   },
   "file_extension": ".py",
   "mimetype": "text/x-python",
   "name": "python",
   "nbconvert_exporter": "python",
   "pygments_lexer": "ipython3",
   "version": "3.8.16"
  }
 },
 "nbformat": 4,
 "nbformat_minor": 5
}

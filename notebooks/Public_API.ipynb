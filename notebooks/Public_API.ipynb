{
 "cells": [
  {
   "cell_type": "markdown",
   "id": "0",
   "metadata": {
    "tags": []
   },
   "source": [
    "# Thalassa\n",
    "\n",
    "`thalassa` (the greek word for \"sea\") is a library for Large Scale Sea level visualizations of unstructured mesh data.\n",
    "\n",
    "https://github.com/ec-jrc/Thalassa\n",
    "\n",
    "## Design goals\n",
    "\n",
    "- Simple API\n",
    "- Performance"
   ]
  },
  {
   "cell_type": "markdown",
   "id": "1",
   "metadata": {
    "tags": []
   },
   "source": [
    "# Imports"
   ]
  },
  {
   "cell_type": "code",
   "execution_count": null,
   "id": "2",
   "metadata": {
    "tags": []
   },
   "outputs": [],
   "source": [
    "# debug\n",
    "import sys\n",
    "\n",
    "print(sys.executable)\n",
    "print(sys.version_info)"
   ]
  },
  {
   "cell_type": "code",
   "execution_count": null,
   "id": "3",
   "metadata": {
    "tags": []
   },
   "outputs": [],
   "source": [
    "%load_ext autoreload\n",
    "%autoreload 2\n",
    "\n",
    "from __future__ import annotations\n",
    "\n",
    "import dask\n",
    "import geoviews as gv\n",
    "import holoviews as hv\n",
    "import numpy as np\n",
    "import pandas as pd\n",
    "import shapely\n",
    "import xarray as xr\n",
    "\n",
    "import thalassa\n",
    "\n",
    "hv.extension(\"bokeh\")\n",
    "\n",
    "# Set some defaults for the visualization of the graphs\n",
    "hv.opts.defaults(\n",
    "    hv.opts.Points(\n",
    "        width=600,\n",
    "        height=400,\n",
    "        show_title=True,\n",
    "        active_tools=[\"box_zoom\"],\n",
    "    ),\n",
    "    hv.opts.Image(\n",
    "        width=600,\n",
    "        height=400,\n",
    "        show_title=True,\n",
    "        active_tools=[\"box_zoom\"],\n",
    "        cmap=\"jet\",\n",
    "    ),\n",
    ")"
   ]
  },
  {
   "cell_type": "markdown",
   "id": "4",
   "metadata": {
    "tags": []
   },
   "source": [
    "# Prepare input data\n",
    "\n",
    "We need to open the netcdf file with `thalassa.open_dataset()` which is a wrapper of `xarray.open_dataset()` and which ensures that the input data can be handled by thalassa."
   ]
  },
  {
   "cell_type": "code",
   "execution_count": null,
   "id": "5",
   "metadata": {
    "tags": []
   },
   "outputs": [],
   "source": [
    "filename = \"../tests/data/fort.63.nc\"\n",
    "ds = thalassa.open_dataset(filename)\n",
    "ds"
   ]
  },
  {
   "cell_type": "code",
   "execution_count": null,
   "id": "6",
   "metadata": {
    "tags": []
   },
   "outputs": [],
   "source": [
    "# The input file contains a bunch of data vars. \n",
    "# For this example, let's only keep the connectivity (i.e. triface_nodes) + the `depth` and `zeta` variables\n",
    "ds = ds[[\"triface_nodes\", \"depth\", \"zeta\"]]\n",
    "\n",
    "# Let's also calculate zeta_max\n",
    "ds[\"zeta_max\"] = ds.zeta.max(\"time\")\n",
    "\n",
    "ds"
   ]
  },
  {
   "cell_type": "markdown",
   "id": "7",
   "metadata": {
    "tags": []
   },
   "source": [
    "# Plotting\n",
    "\n",
    "## Plot data vars"
   ]
  },
  {
   "cell_type": "code",
   "execution_count": null,
   "id": "8",
   "metadata": {
    "tags": []
   },
   "outputs": [],
   "source": [
    "thalassa.plot(ds, \"depth\")"
   ]
  },
  {
   "cell_type": "markdown",
   "id": "9",
   "metadata": {
    "tags": []
   },
   "source": [
    "## Customize plot\n",
    "\n",
    "You can control various aspects of the plot, e.g. the title, the colorbar etc:"
   ]
  },
  {
   "cell_type": "code",
   "execution_count": null,
   "id": "10",
   "metadata": {
    "tags": []
   },
   "outputs": [],
   "source": [
    "thalassa.plot(\n",
    "    ds=ds,\n",
    "    variable=\"zeta_max\",\n",
    "    clim_min=0.65,\n",
    "    clim_max=0.66,\n",
    "    clabel=\"meters\",\n",
    "    title=\"Zeta over 0.7m\"\n",
    ")"
   ]
  },
  {
   "cell_type": "markdown",
   "id": "11",
   "metadata": {
    "tags": []
   },
   "source": [
    "## Plot time-dependent variables\n",
    "\n",
    "For time-dependent variables, you need to use `.isel()`/`.sel()` in order to filter the data to a single datapoint"
   ]
  },
  {
   "cell_type": "code",
   "execution_count": null,
   "id": "12",
   "metadata": {
    "tags": []
   },
   "outputs": [],
   "source": [
    "thalassa.plot(\n",
    "    ds=ds.isel(time=562),  # or `.sel() etc\n",
    "    variable=\"zeta\", \n",
    "    clim_min=0.45,\n",
    "    title=str(ds.time[562].values),\n",
    ")"
   ]
  },
  {
   "cell_type": "markdown",
   "id": "13",
   "metadata": {
    "tags": []
   },
   "source": [
    "## Plot mesh"
   ]
  },
  {
   "cell_type": "code",
   "execution_count": null,
   "id": "14",
   "metadata": {
    "tags": []
   },
   "outputs": [],
   "source": [
    "thalassa.plot_mesh(ds)"
   ]
  },
  {
   "cell_type": "markdown",
   "id": "15",
   "metadata": {
    "tags": []
   },
   "source": [
    "## Plot nodes"
   ]
  },
  {
   "cell_type": "code",
   "execution_count": null,
   "id": "16",
   "metadata": {
    "tags": []
   },
   "outputs": [],
   "source": [
    "thalassa.plot_nodes(ds)"
   ]
  },
  {
   "cell_type": "markdown",
   "id": "17",
   "metadata": {
    "tags": []
   },
   "source": [
    "## Plot data vars + mesh + nodes\n",
    "\n",
    "You can combine all the plots.\n",
    "\n",
    "<div class=\"alert alert-info\" role=\"alert\">\n",
    "    Do note that rendering time increases with each extra item that gets rendered.\n",
    "</div>"
   ]
  },
  {
   "cell_type": "code",
   "execution_count": null,
   "id": "18",
   "metadata": {
    "tags": []
   },
   "outputs": [],
   "source": [
    "thalassa.plot(ds, \"zeta_max\", show_mesh=True, show_nodes=True, node_size=3)"
   ]
  },
  {
   "cell_type": "markdown",
   "id": "19",
   "metadata": {
    "tags": []
   },
   "source": [
    "## Region of Interest (RoI)\n",
    "\n",
    "If we have a specific RoI, we could crop the dataset. \n",
    "\n",
    "Cropping with a big Bounding Box might take a few seconds, but it is something that only needs to be done once and then everyting is snappier!"
   ]
  },
  {
   "cell_type": "code",
   "execution_count": null,
   "id": "20",
   "metadata": {
    "tags": []
   },
   "outputs": [],
   "source": []
  },
  {
   "cell_type": "code",
   "execution_count": null,
   "id": "21",
   "metadata": {
    "tags": []
   },
   "outputs": [],
   "source": [
    "bbox = shapely.box(-72.6, 40.75, -72.2, 40.9)\n",
    "cds = thalassa.crop(ds, bbox)\n",
    "cds"
   ]
  },
  {
   "cell_type": "code",
   "execution_count": null,
   "id": "22",
   "metadata": {
    "tags": []
   },
   "outputs": [],
   "source": [
    "thalassa.plot(cds, \"zeta_max\", show_mesh=True, show_nodes=True)"
   ]
  }
 ],
 "metadata": {
  "kernelspec": {
   "display_name": "thalassa",
   "language": "python",
   "name": "thalassa"
  },
  "language_info": {
   "codemirror_mode": {
    "name": "ipython",
    "version": 3
   },
   "file_extension": ".py",
   "mimetype": "text/x-python",
   "name": "python",
   "nbconvert_exporter": "python",
   "pygments_lexer": "ipython3",
   "version": "3.10.14"
  }
 },
 "nbformat": 4,
 "nbformat_minor": 5
}

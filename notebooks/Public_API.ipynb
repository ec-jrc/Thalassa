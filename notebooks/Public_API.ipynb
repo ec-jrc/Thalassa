{
 "cells": [
  {
   "cell_type": "markdown",
   "id": "0",
   "metadata": {
    "tags": []
   },
   "source": [
    "# Thalassa\n",
    "\n",
    "`thalassa` (the greek word for \"sea\") is a library for Large Scale Sea level visualizations of unstructured mesh data.\n",
    "\n",
    "https://github.com/ec-jrc/Thalassa\n",
    "\n",
    "## Design goals\n",
    "\n",
    "- Simple API\n",
    "- Performance"
   ]
  },
  {
   "cell_type": "markdown",
   "id": "1",
   "metadata": {
    "tags": []
   },
   "source": [
    "## Imports"
   ]
  },
  {
   "cell_type": "code",
   "execution_count": null,
   "id": "2",
   "metadata": {
    "tags": []
   },
   "outputs": [],
   "source": [
    "%load_ext autoreload\n",
    "%autoreload 2\n",
    "\n",
    "from __future__ import annotations\n",
    "\n",
    "import dask\n",
    "import geoviews as gv\n",
    "import holoviews as hv\n",
    "import numcodecs\n",
    "import numpy as np\n",
    "import pandas as pd\n",
    "import shapely\n",
    "import xarray as xr\n",
    "\n",
    "from holoviews import opts as hvopts\n",
    "from holoviews import streams\n",
    "from holoviews.streams import PointerXY\n",
    "from holoviews.streams import Tap\n",
    "\n",
    "hv.extension(\"bokeh\")\n",
    "\n",
    "import thalassa\n",
    "\n",
    "from thalassa import api\n",
    "from thalassa import normalization\n",
    "from thalassa import utils\n",
    "\n",
    "# Set some defaults for the visualization of the graphs\n",
    "hvopts.defaults(\n",
    "    hvopts.Image(\n",
    "        width=800,\n",
    "        height=600,\n",
    "        show_title=True,\n",
    "        tools=[\"hover\"],\n",
    "        active_tools=[\"pan\", \"box_zoom\"],\n",
    "        cmap=\"jet\",\n",
    "    ),\n",
    ")\n",
    "\n",
    "COMPRESSOR = numcodecs.Blosc(cname=\"zstd\", clevel=1)"
   ]
  },
  {
   "cell_type": "markdown",
   "id": "3",
   "metadata": {
    "tags": []
   },
   "source": [
    "## Retrieve STOFS-3D-Atl data\n",
    "\n",
    "STOFS-3D-Atl is a 3D model that uses SCHISM.\n",
    "\n",
    "Output data are split into multiple files. More specifically, the Sea Water elevation is distributed as 3 netcdf files (3-day prediction - one file per day). \n",
    "We will download them for the run of 29th of August 2023.\n",
    "\n",
    "For more info please check here: https://noaa-nos-stofs3d-pds.s3.amazonaws.com/README.htmlhttps://noaa-nos-stofs3d-pds.s3.amazonaws.com/README.html"
   ]
  },
  {
   "cell_type": "code",
   "execution_count": null,
   "id": "4",
   "metadata": {
    "tags": []
   },
   "outputs": [],
   "source": [
    "%%bash\n",
    "\n",
    "for day in 28 29 30; do\n",
    "    filename=schout_adcirc_202308\"${day}\".nc\n",
    "    if [[ ! -f \"${filename}\" ]]; then\n",
    "        echo Downloading netcdf: \"${filename}\"\n",
    "        wget --quiet https://noaa-nos-stofs3d-pds.s3.amazonaws.com/STOFS-3D-Atl/stofs_3d_atl.20230829/schout_adcirc_202308\"${day}\".nc -O \"${filename}\"\n",
    "    else\n",
    "        echo Netcdf already exists: \"${filename}\"\n",
    "    fi\n",
    "done"
   ]
  },
  {
   "cell_type": "markdown",
   "id": "5",
   "metadata": {
    "tags": []
   },
   "source": [
    "## Prepare input data\n",
    "\n",
    "We want to check the maximum elevation per node for the full 72-hour time span. \n",
    "This means that we need to do some (lightweight) post-processing.\n",
    "\n",
    "Nevertheless, since we start to do post-processing let's also convert the netcdf files to a zarr archive in order to take advantage of the faster compression algorithms that are supported by zarr."
   ]
  },
  {
   "cell_type": "code",
   "execution_count": null,
   "id": "6",
   "metadata": {
    "tags": []
   },
   "outputs": [],
   "source": [
    "ds = xr.open_mfdataset(\"./schout_adcirc_202308??.nc\", coords=\"minimal\", data_vars=\"minimal\", compat=\"override\")\n",
    "ds"
   ]
  },
  {
   "cell_type": "code",
   "execution_count": null,
   "id": "7",
   "metadata": {
    "tags": []
   },
   "outputs": [],
   "source": [
    "# For this example, let's only keep the depth and the zeta variables\n",
    "ds = ds[[\"element\", \"depth\", \"zeta\"]]\n",
    "#ds[\"time\"] = pd.DatetimeIndex(ds.time)\n",
    "\n",
    "# Recalculate zeta_max\n",
    "ds[\"zeta_max\"] = ds.zeta.max(\"time\")"
   ]
  },
  {
   "cell_type": "code",
   "execution_count": null,
   "id": "8",
   "metadata": {
    "tags": []
   },
   "outputs": [],
   "source": [
    "encoding = {var: {\"compressor\": COMPRESSOR} for var in ds}\n",
    "\n",
    "# The default Zarr compression seems to mangle the timestamps. Using ZSTD seems to work fine though.\n",
    "encoding[\"time\"] = {\"compressor\": COMPRESSOR}\n",
    "\n",
    "ds = ds.chunk(dict(time=1, node=200_000))\n",
    "\n",
    "# Save as a zarr archive in the same directory\n",
    "store = ds.to_zarr(\"schout_adcirc_20230829.zarr\", mode=\"w\", consolidated=True, encoding=encoding)"
   ]
  },
  {
   "cell_type": "code",
   "execution_count": null,
   "id": "9",
   "metadata": {
    "tags": []
   },
   "outputs": [],
   "source": [
    "!du -h *.nc\n",
    "\n",
    "!du -hd0 *.zarr"
   ]
  },
  {
   "cell_type": "markdown",
   "id": "10",
   "metadata": {
    "tags": []
   },
   "source": [
    "## Normalize dataset\n",
    "\n",
    "Thalassa supports multiple solvers. Currently supported ones include:\n",
    "\n",
    "- Schism (both 2D and 3D)\n",
    "- ADCIRC\n",
    "- Telemac (WIP)\n",
    "\n",
    "In order to support these solvers, thalassa converts their output to what we call the \"thalassa schema\".\n",
    "\n",
    "To make a long story short, we just need to use the `thalassa.open_dataset()` function. "
   ]
  },
  {
   "cell_type": "code",
   "execution_count": null,
   "id": "11",
   "metadata": {
    "tags": []
   },
   "outputs": [],
   "source": [
    "import thalassa\n",
    "\n",
    "ds = thalassa.open_dataset(\"schout_adcirc_20230829.zarr\")\n",
    "ds"
   ]
  },
  {
   "cell_type": "markdown",
   "id": "12",
   "metadata": {
    "tags": []
   },
   "source": [
    "## Plot data"
   ]
  },
  {
   "cell_type": "code",
   "execution_count": null,
   "id": "13",
   "metadata": {
    "tags": []
   },
   "outputs": [],
   "source": [
    "import thalassa\n",
    "\n",
    "thalassa.plot(ds, \"depth\")"
   ]
  },
  {
   "cell_type": "markdown",
   "id": "14",
   "metadata": {
    "tags": []
   },
   "source": [
    "## Control the colorbar"
   ]
  },
  {
   "cell_type": "code",
   "execution_count": null,
   "id": "15",
   "metadata": {
    "tags": []
   },
   "outputs": [],
   "source": [
    "thalassa.plot(\n",
    "    ds=ds,\n",
    "    variable=\"zeta_max\",\n",
    "    clim_min=0.5,\n",
    "    clim_max=3,\n",
    "    clabel=\"meters\",\n",
    "    title=\"Custom title for 'zeta_max'\"\n",
    ")"
   ]
  },
  {
   "cell_type": "markdown",
   "id": "16",
   "metadata": {
    "tags": []
   },
   "source": [
    "## Plot time-dependent variables"
   ]
  },
  {
   "cell_type": "code",
   "execution_count": null,
   "id": "17",
   "metadata": {
    "tags": []
   },
   "outputs": [],
   "source": [
    "timestamp = pd.Timestamp(ds.time[16].values)\n",
    "\n",
    "thalassa.plot(\n",
    "    ds=ds.sel(time=timestamp),  # or `.isel() etc\n",
    "    variable=\"zeta\", \n",
    "    clim_max=1,\n",
    "    title=f\"zeta: {timestamp}\",\n",
    ")"
   ]
  },
  {
   "cell_type": "markdown",
   "id": "18",
   "metadata": {
    "tags": []
   },
   "source": [
    "## Plot mesh"
   ]
  },
  {
   "cell_type": "code",
   "execution_count": null,
   "id": "19",
   "metadata": {
    "tags": []
   },
   "outputs": [],
   "source": [
    "thalassa.plot_mesh(ds)"
   ]
  },
  {
   "cell_type": "markdown",
   "id": "20",
   "metadata": {
    "tags": []
   },
   "source": [
    "## Region of Interest (RoI)\n",
    "\n",
    "If we have a specific RoI, we could crop the dataset. \n",
    "\n",
    "Cropping with a big Bounding Box takes a few seconds, but it is something that only needs to be done once and then everyting is snappier!"
   ]
  },
  {
   "cell_type": "code",
   "execution_count": null,
   "id": "21",
   "metadata": {
    "tags": []
   },
   "outputs": [],
   "source": [
    "bbox = shapely.box(-89, 29.5, -87.5, 31)\n",
    "bbox"
   ]
  },
  {
   "cell_type": "code",
   "execution_count": null,
   "id": "22",
   "metadata": {
    "tags": []
   },
   "outputs": [],
   "source": [
    "cds = thalassa.crop(ds, bbox)\n",
    "cds.dims"
   ]
  },
  {
   "cell_type": "code",
   "execution_count": null,
   "id": "23",
   "metadata": {
    "tags": []
   },
   "outputs": [],
   "source": [
    "thalassa.plot(cds, \"zeta_max\", show_mesh=True)"
   ]
  },
  {
   "cell_type": "code",
   "execution_count": null,
   "id": "24",
   "metadata": {
    "tags": []
   },
   "outputs": [],
   "source": [
    "thalassa.plot_mesh(ds=cds)"
   ]
  },
  {
   "cell_type": "code",
   "execution_count": null,
   "id": "25",
   "metadata": {
    "tags": []
   },
   "outputs": [],
   "source": [
    "# We can also do the cropping on the fly\n",
    "thalassa.plot(\n",
    "    ds=ds,\n",
    "    variable=\"depth\",\n",
    "    clim_min=-5, \n",
    "    clim_max=20, \n",
    "    bbox=bbox\n",
    ")"
   ]
  }
 ],
 "metadata": {
  "kernelspec": {
   "display_name": "thalassa",
   "language": "python",
   "name": "python3"
  },
  "language_info": {
   "codemirror_mode": {
    "name": "ipython",
    "version": 3
   },
   "file_extension": ".py",
   "mimetype": "text/x-python",
   "name": "python",
   "nbconvert_exporter": "python",
   "pygments_lexer": "ipython3",
   "version": "3.10.12"
  }
 },
 "nbformat": 4,
 "nbformat_minor": 5
}

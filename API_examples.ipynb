{
 "cells": [
  {
   "cell_type": "code",
   "execution_count": null,
   "id": "ea134b93-6d5d-480a-a05a-7942170b059d",
   "metadata": {
    "tags": []
   },
   "outputs": [],
   "source": [
    "%load_ext autoreload\n",
    "%autoreload 2\n",
    "\n",
    "from __future__ import annotations\n",
    "\n",
    "import geoviews as gv\n",
    "import geopandas as gpd\n",
    "import holoviews as hv\n",
    "import numpy as np\n",
    "import pandas as pd\n",
    "import panel as pn\n",
    "import pygeos\n",
    "import shapely\n",
    "import shapely.wkt\n",
    "import xarray as xr\n",
    "\n",
    "from holoviews import opts\n",
    "from holoviews import streams\n",
    "from holoviews.operation.datashader import dynspread\n",
    "from holoviews.operation.datashader import datashade\n",
    "from holoviews.operation.datashader import inspect\n",
    "from holoviews.operation.datashader import rasterize\n",
    "from holoviews.streams import PointerXY\n",
    "from holoviews.streams import Tap\n",
    "\n",
    "hv.extension(\"bokeh\")\n",
    "\n",
    "from thalassa import api\n",
    "from thalassa import normalization\n",
    "from thalassa import utils"
   ]
  },
  {
   "cell_type": "markdown",
   "id": "b8202dc3-d580-456e-a0fe-ceaba90a5d7b",
   "metadata": {
    "tags": []
   },
   "source": [
    "## Normalize datasets\n",
    "\n",
    "The first thing we need to do is to normalize the dataset to the \"thalassa\" format.\n",
    "\n",
    "We do this with the `normalize_dataset()` function.\n",
    "\n",
    "This function returns an `xr.Dataset` with renamed dimensions/variables + some additional ones. \n",
    "Furthermore it splits quad elements to triangles."
   ]
  },
  {
   "cell_type": "code",
   "execution_count": null,
   "id": "33c61075-02ce-4cb2-bbd8-207ca7056ec5",
   "metadata": {
    "tags": []
   },
   "outputs": [],
   "source": [
    "ds = xr.open_dataset(\"data/schout_20220205.nc\")\n",
    "ds = normalization.normalize_dataset(ds)\n",
    "ds"
   ]
  },
  {
   "cell_type": "markdown",
   "id": "88d7d6f7-6133-4458-b0d7-361e38c4fb5f",
   "metadata": {
    "tags": []
   },
   "source": [
    "## Main API\n",
    "\n",
    "`thalassa` supports several types of graphs, including:\n",
    "    \n",
    "- A visualization of the variables at various timestamps and or layers.\n",
    "- A visualization of the mesh\n",
    "- Extraction of timeseries from specific points\n",
    "\n",
    "The following cell shows the basic usage:"
   ]
  },
  {
   "cell_type": "code",
   "execution_count": null,
   "id": "c01ecd4c-7312-403a-8366-a32e23c5db47",
   "metadata": {
    "tags": []
   },
   "outputs": [],
   "source": [
    "#variable, layer, timestamp = \"salt\", 40, ds.time.values[4]\n",
    "#variable, layer, timestamp = \"depth\", None, None\n",
    "variable, layer, timestamp = \"elev\", None, \"max\"\n",
    "\n",
    "# The trimesh is the most basic object. This is what you need to create all the others graphs\n",
    "# It is on this object that you specify the timestamp and/or the layer.\n",
    "trimesh = api.create_trimesh(ds=ds, variable=variable, timestamp=timestamp, layer=layer)\n",
    "\n",
    "# The wireframe is the representation of the mesh\n",
    "wireframe = api.get_wireframe(trimesh=trimesh)\n",
    "\n",
    "# The tiles is using the tiling service from Open Street maps\n",
    "tiles =  api.get_tiles() \n",
    "\n",
    "# The raster object is the basic Map that visualizes the variable. You can specify things like the colorbar limits and/or the extents\n",
    "raster = api.get_raster(trimesh, clim_min=0, clim_max=15)\n",
    "\n",
    "# The pointer/tap timeseries extract the timeseries of a specific node from the xr.Dataset and visualizet it.\n",
    "pointer_dmap = api.get_pointer_timeseries(ds=ds, variable=variable, source_raster=raster, layer=layer)\n",
    "tap_dmap = api.get_tap_timeseries(ds=ds, variable=variable, source_raster=raster, layer=layer)"
   ]
  },
  {
   "cell_type": "markdown",
   "id": "2585b1ce-0547-44dd-84d0-e0d2ccb40ba5",
   "metadata": {
    "tags": []
   },
   "source": [
    "### Let's visualize!\n",
    "\n",
    "After you render the layout, move the mouse over the map and click on it. This will fill in the `pointer_dmap` and the `tap_dmap`."
   ]
  },
  {
   "cell_type": "code",
   "execution_count": null,
   "id": "b736db04-9ee8-40cf-a469-9d21298974cd",
   "metadata": {
    "tags": []
   },
   "outputs": [],
   "source": [
    "layout = tiles * raster.opts(width=600, cmap=\"viridis\") \n",
    "layout\n",
    "(pointer_dmap + tap_dmap).opts(shared_axes=False)"
   ]
  },
  {
   "cell_type": "markdown",
   "id": "d761148b-39be-4b3e-9993-c9870e6670ba",
   "metadata": {
    "tags": []
   },
   "source": [
    "## Set the zoom level\n",
    "\n",
    "In order to set the zoom level, we need to specify a tuple with the `x_range` and `y_range` arguments in `get_raster()`."
   ]
  },
  {
   "cell_type": "code",
   "execution_count": null,
   "id": "436eac09-a3ad-4f63-85c8-4afb69b13960",
   "metadata": {
    "tags": []
   },
   "outputs": [],
   "source": [
    "raster2 = api.get_raster(trimesh, clim_min=0, clim_max=15, x_range=(-90, -80), y_range=(20, 30))\n",
    "tiles * raster2"
   ]
  },
  {
   "cell_type": "markdown",
   "id": "d18ab395-1d68-4b4a-9f02-e49ebfba6094",
   "metadata": {
    "tags": []
   },
   "source": [
    "We can even calcuate the ranges from an existing raster (e.g. to restore the zoom level of a different graph)\n",
    "\n",
    "To do this we can use the `get_bbox_from_raster()` and `get_?_range_from_bbox()` functions"
   ]
  },
  {
   "cell_type": "code",
   "execution_count": null,
   "id": "3ce1adbe-106c-4ad4-a0f5-e31d4036f949",
   "metadata": {
    "tags": []
   },
   "outputs": [],
   "source": [
    "bbox = api.get_bbox_from_raster(raster2)\n",
    "bbox\n",
    "\n",
    "x_range = api.get_x_range_from_bbox(bbox)\n",
    "y_range = api.get_y_range_from_bbox(bbox)\n",
    "x_range\n",
    "y_range"
   ]
  },
  {
   "cell_type": "markdown",
   "id": "718b79cf-0aed-403b-870f-df06b8ef6e0b",
   "metadata": {
    "tags": []
   },
   "source": [
    "## Undocumented"
   ]
  },
  {
   "cell_type": "code",
   "execution_count": null,
   "id": "3d75239a-c4a3-4f39-b3db-5d46c998759d",
   "metadata": {
    "tags": []
   },
   "outputs": [],
   "source": [
    "polygon_gdf = api.generate_mesh_polygon(ds)\n",
    "polygon_gdf"
   ]
  }
 ],
 "metadata": {
  "kernelspec": {
   "display_name": "thalassa2",
   "language": "python",
   "name": "thalassa2"
  },
  "language_info": {
   "codemirror_mode": {
    "name": "ipython",
    "version": 3
   },
   "file_extension": ".py",
   "mimetype": "text/x-python",
   "name": "python",
   "nbconvert_exporter": "python",
   "pygments_lexer": "ipython3",
   "version": "3.10.5"
  }
 },
 "nbformat": 4,
 "nbformat_minor": 5
}
